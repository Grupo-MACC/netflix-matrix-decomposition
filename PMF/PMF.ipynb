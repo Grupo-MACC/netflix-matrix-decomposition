{
 "cells": [
  {
   "cell_type": "markdown",
   "id": "fb179daf141f80c2",
   "metadata": {},
   "source": [
    "# Probabilistic-Matrix-Factorization\n",
    "\n",
    "- [Repositorio](https://github.com/fuhailin/Probabilistic-Matrix-Factorization/tree/master)\n",
    "\n",
    "- [Paper](https://proceedings.neurips.cc/paper_files/paper/2007/hash/d7322ed717dedf1eb4e6e52a37ea7bcd-Abstract.html)"
   ]
  },
  {
   "cell_type": "code",
   "execution_count": 48,
   "id": "initial_id",
   "metadata": {
    "collapsed": true,
    "jupyter": {
     "is_executing": true
    }
   },
   "outputs": [],
   "source": [
    "import matplotlib.pyplot as plt\n",
    "import numpy as np\n",
    "from numpy import *\n",
    "import random\n",
    "from sklearn.model_selection import train_test_split\n",
    "import nbformat as nbf\n",
    "import pathlib, os\n",
    "from pathlib import Path\n",
    "import pandas as pd\n",
    "from sklearn.decomposition import TruncatedSVD"
   ]
  },
  {
   "cell_type": "markdown",
   "id": "28e5dfdc",
   "metadata": {},
   "source": [
    "## 1. Cargar BD 'u.data'\n",
    "\n",
    "    Unicamente devuelve las columnas user_id, item_id, rating"
   ]
  },
  {
   "cell_type": "code",
   "execution_count": 37,
   "id": "3c0ff2fa",
   "metadata": {},
   "outputs": [],
   "source": [
    "rating_data_path = Path(\"data/u.data\")\n",
    "genre_data_path = Path(\"data/u.genre\")\n",
    "item_data_path = Path(\"data/u.item\")"
   ]
  },
  {
   "cell_type": "code",
   "execution_count": 38,
   "id": "d6d16751",
   "metadata": {},
   "outputs": [],
   "source": [
    "def load_rating_data(path: Path):\n",
    "    \"\"\"\n",
    "    Carga u.data, devuelve array Nx3: [user, item, rating] en float64, IDs base 0\n",
    "    \"\"\"\n",
    "    data = np.loadtxt(path, dtype=np.int64)\n",
    "    data[:, 0] -= 1  # user IDs base 0\n",
    "    data[:, 1] -= 1  # item IDs base 0\n",
    "    return data[:, :3].astype(np.float64)"
   ]
  },
  {
   "cell_type": "code",
   "execution_count": 39,
   "id": "714f6438",
   "metadata": {},
   "outputs": [
    {
     "name": "stdout",
     "output_type": "stream",
     "text": [
      "Ratings: (100000, 3), usuarios=943, items=1682\n"
     ]
    }
   ],
   "source": [
    "ratings = load_rating_data(rating_data_path)\n",
    "\n",
    "# Número de usuarios y items\n",
    "n_users = int(ratings[:, 0].max()) + 1\n",
    "n_items = int(ratings[:, 1].max()) + 1\n",
    "print(f\"Ratings: {ratings.shape}, usuarios={n_users}, items={n_items}\")"
   ]
  },
  {
   "cell_type": "code",
   "execution_count": 40,
   "id": "60adb829",
   "metadata": {},
   "outputs": [],
   "source": [
    "def load_genre_data(path: Path):\n",
    "    \"\"\"\n",
    "    Carga u.genre, devuelve diccionario {genre_name: genre_id}\n",
    "    \"\"\"\n",
    "    genre_dict = {}\n",
    "    with open(path, \"r\") as f:\n",
    "        for line in f:\n",
    "            line = line.strip()\n",
    "            if line:  # ignora líneas vacías\n",
    "                name, idx = line.split(\"|\")\n",
    "                genre_dict[name] = int(idx)\n",
    "    return genre_dict"
   ]
  },
  {
   "cell_type": "code",
   "execution_count": 41,
   "id": "da77f6fe",
   "metadata": {},
   "outputs": [
    {
     "name": "stdout",
     "output_type": "stream",
     "text": [
      "Géneros: {'unknown': 0, 'Action': 1, 'Adventure': 2, 'Animation': 3, \"Children's\": 4, 'Comedy': 5, 'Crime': 6, 'Documentary': 7, 'Drama': 8, 'Fantasy': 9, 'Film-Noir': 10, 'Horror': 11, 'Musical': 12, 'Mystery': 13, 'Romance': 14, 'Sci-Fi': 15, 'Thriller': 16, 'War': 17, 'Western': 18}\n"
     ]
    }
   ],
   "source": [
    "genres = load_genre_data(genre_data_path)\n",
    "print(\"Géneros:\", genres)"
   ]
  },
  {
   "cell_type": "code",
   "execution_count": 43,
   "id": "4af63aca",
   "metadata": {},
   "outputs": [],
   "source": [
    "def load_item_data(path: Path):\n",
    "    \"\"\"\n",
    "    Carga u.item, devuelve dataframe con:\n",
    "    movieId (base 0), title, genres (19 columnas binarias)\n",
    "    \"\"\"\n",
    "    df = pd.read_csv(path, sep='|', header=None, encoding='latin-1')\n",
    "    movie_ids = df[0].values - 1        # base 0\n",
    "    titles = df[1].values               # título\n",
    "    genre_matrix = df.iloc[:, 5:24].values.astype(int)  # columnas de géneros 0/1\n",
    "    return movie_ids, titles, genre_matrix"
   ]
  },
  {
   "cell_type": "code",
   "execution_count": 44,
   "id": "6682487e",
   "metadata": {},
   "outputs": [
    {
     "name": "stdout",
     "output_type": "stream",
     "text": [
      "Número de items cargados: 1682\n",
      "Ejemplo título: Toy Story (1995)\n",
      "Ejemplo géneros (vector binario): [0 0 0 1 1 1 0 0 0 0 0 0 0 0 0 0 0 0 0]\n"
     ]
    }
   ],
   "source": [
    "item_ids, titles, genre_matrix = load_item_data(item_data_path)\n",
    "print(\"Número de items cargados:\", len(item_ids))\n",
    "print(\"Ejemplo título:\", titles[0])\n",
    "print(\"Ejemplo géneros (vector binario):\", genre_matrix[0])"
   ]
  },
  {
   "cell_type": "markdown",
   "id": "f5545fdd",
   "metadata": {},
   "source": [
    "## 2. Train /test\n",
    "\n",
    "    Dividir el dataset en train (80%) y test(20%)"
   ]
  },
  {
   "cell_type": "code",
   "execution_count": 51,
   "id": "3e0c147d",
   "metadata": {},
   "outputs": [
    {
     "name": "stdout",
     "output_type": "stream",
     "text": [
      "Train: (80000, 3) Test: (20000, 3)\n"
     ]
    }
   ],
   "source": [
    "train, test = train_test_split(ratings, test_size=0.2, random_state=42)\n",
    "print(\"Train:\", train.shape, \"Test:\", test.shape)"
   ]
  },
  {
   "cell_type": "markdown",
   "id": "3a54bffe",
   "metadata": {},
   "source": [
    "## 3. Definir PMF\n",
    "\n",
    "    (La Clase PMF es igual que la del repositorio)"
   ]
  },
  {
   "cell_type": "code",
   "execution_count": 46,
   "id": "730c84cc",
   "metadata": {},
   "outputs": [],
   "source": [
    "# -*- coding: utf-8 -*-\n",
    "import numpy as np\n",
    "\n",
    "\n",
    "class PMF(object):\n",
    "    def __init__(self, num_feat=10, epsilon=1, _lambda=0.1, momentum=0.8, maxepoch=20, num_batches=10, batch_size=1000):\n",
    "        self.num_feat = num_feat  # Number of latent features,\n",
    "        self.epsilon = epsilon  # learning rate,\n",
    "        self._lambda = _lambda  # L2 regularization,\n",
    "        self.momentum = momentum  # momentum of the gradient,\n",
    "        self.maxepoch = maxepoch  # Number of epoch before stop,\n",
    "        self.num_batches = num_batches  # Number of batches in each epoch (for SGD optimization),\n",
    "        self.batch_size = batch_size  # Number of training samples used in each batches (for SGD optimization)\n",
    "\n",
    "        self.w_Item = None  # Item feature vectors\n",
    "        self.w_User = None  # User feature vectors\n",
    "\n",
    "        self.rmse_train = []\n",
    "        self.rmse_test = []\n",
    "\n",
    "    # ***Fit the model with train_tuple and evaluate RMSE on both train and test data.  ***********#\n",
    "    # ***************** train_vec=TrainData, test_vec=TestData*************#\n",
    "    def fit(self, train_vec, test_vec):\n",
    "        # mean subtraction\n",
    "        self.mean_inv = np.mean(train_vec[:, 2])  # 评分平均值\n",
    "\n",
    "        pairs_train = train_vec.shape[0]  # traindata 中条目数\n",
    "        pairs_test = test_vec.shape[0]  # testdata中条目数\n",
    "\n",
    "        # 1-p-i, 2-m-c\n",
    "        #num_user = int(max(np.amax(train_vec[:, 0]), np.amax(test_vec[:, 0]))) + 1  # 第0列，user总数\n",
    "        #num_item = int(max(np.amax(train_vec[:, 1]), np.amax(test_vec[:, 1]))) + 1  # 第1列，movie总数\n",
    "        num_user = int(np.max(np.concatenate([train_vec[:, 0], test_vec[:, 0]]))) + 1\n",
    "        num_item = int(np.max(np.concatenate([train_vec[:, 1], test_vec[:, 1]]))) + 1\n",
    "\n",
    "        incremental = False  # 增量\n",
    "        if ((not incremental) or (self.w_Item is None)):\n",
    "            # initialize\n",
    "            self.epoch = 0\n",
    "            self.w_Item = 0.1 * np.random.randn(num_item, self.num_feat)  # numpy.random.randn 电影 M x D 正态分布矩阵\n",
    "            self.w_User = 0.1 * np.random.randn(num_user, self.num_feat)  # numpy.random.randn 用户 N x D 正态分布矩阵\n",
    "\n",
    "            self.w_Item_inc = np.zeros((num_item, self.num_feat))  # 创建电影 M x D 0矩阵\n",
    "            self.w_User_inc = np.zeros((num_user, self.num_feat))  # 创建用户 N x D 0矩阵\n",
    "\n",
    "        while self.epoch < self.maxepoch:  # 检查迭代次数\n",
    "            self.epoch += 1\n",
    "\n",
    "            # Shuffle training truples\n",
    "            shuffled_order = np.arange(train_vec.shape[0])  # 根据记录数创建等差array\n",
    "            np.random.shuffle(shuffled_order)  # 用于将一个列表中的元素打乱\n",
    "\n",
    "            # Batch update\n",
    "            for batch in range(self.num_batches):  # 每次迭代要使用的数据量\n",
    "                # print \"epoch %d batch %d\" % (self.epoch, batch+1)\n",
    "\n",
    "                test = np.arange(self.batch_size * batch, self.batch_size * (batch + 1))\n",
    "                batch_idx = np.mod(test, shuffled_order.shape[0])  # 本次迭代要使用的索引下标\n",
    "\n",
    "                batch_UserID = np.array(train_vec[shuffled_order[batch_idx], 0], dtype='int32')\n",
    "                batch_ItemID = np.array(train_vec[shuffled_order[batch_idx], 1], dtype='int32')\n",
    "\n",
    "                # Compute Objective Function\n",
    "                pred_out = np.sum(np.multiply(self.w_User[batch_UserID, :],\n",
    "                                              self.w_Item[batch_ItemID, :]),\n",
    "                                  axis=1)  # mean_inv subtracted # np.multiply对应位置元素相乘\n",
    "\n",
    "                rawErr = pred_out - train_vec[shuffled_order[batch_idx], 2] + self.mean_inv\n",
    "\n",
    "                # Compute gradients\n",
    "                Ix_User = 2 * np.multiply(rawErr[:, np.newaxis], self.w_Item[batch_ItemID, :]) \\\n",
    "                       + self._lambda * self.w_User[batch_UserID, :]\n",
    "                Ix_Item = 2 * np.multiply(rawErr[:, np.newaxis], self.w_User[batch_UserID, :]) \\\n",
    "                       + self._lambda * (self.w_Item[batch_ItemID, :])  # np.newaxis :increase the dimension\n",
    "\n",
    "                dw_Item = np.zeros((num_item, self.num_feat))\n",
    "                dw_User = np.zeros((num_user, self.num_feat))\n",
    "\n",
    "                # loop to aggreate the gradients of the same element\n",
    "                for i in range(self.batch_size):\n",
    "                    dw_Item[batch_ItemID[i], :] += Ix_Item[i, :]\n",
    "                    dw_User[batch_UserID[i], :] += Ix_User[i, :]\n",
    "\n",
    "                # Update with momentum\n",
    "                self.w_Item_inc = self.momentum * self.w_Item_inc + self.epsilon * dw_Item / self.batch_size\n",
    "                self.w_User_inc = self.momentum * self.w_User_inc + self.epsilon * dw_User / self.batch_size\n",
    "\n",
    "                self.w_Item = self.w_Item - self.w_Item_inc\n",
    "                self.w_User = self.w_User - self.w_User_inc\n",
    "\n",
    "                # Compute Objective Function after\n",
    "                if batch == self.num_batches - 1:\n",
    "                    pred_out = np.sum(np.multiply(self.w_User[np.array(train_vec[:, 0], dtype='int32'), :],\n",
    "                                                  self.w_Item[np.array(train_vec[:, 1], dtype='int32'), :]),\n",
    "                                      axis=1)  # mean_inv subtracted\n",
    "                    rawErr = pred_out - train_vec[:, 2] + self.mean_inv\n",
    "                    obj = np.linalg.norm(rawErr) ** 2 \\\n",
    "                          + 0.5 * self._lambda * (np.linalg.norm(self.w_User) ** 2 + np.linalg.norm(self.w_Item) ** 2)\n",
    "\n",
    "                    self.rmse_train.append(np.sqrt(obj / pairs_train))\n",
    "\n",
    "                # Compute validation error\n",
    "                if batch == self.num_batches - 1:\n",
    "                    pred_out = np.sum(np.multiply(self.w_User[np.array(test_vec[:, 0], dtype='int32'), :],\n",
    "                                                  self.w_Item[np.array(test_vec[:, 1], dtype='int32'), :]),\n",
    "                                      axis=1)  # mean_inv subtracted\n",
    "                    rawErr = pred_out - test_vec[:, 2] + self.mean_inv\n",
    "                    self.rmse_test.append(np.linalg.norm(rawErr) / np.sqrt(pairs_test))\n",
    "\n",
    "                    # Print info\n",
    "                    if batch == self.num_batches - 1:\n",
    "                        print('Training RMSE: %f, Test RMSE %f' % (self.rmse_train[-1], self.rmse_test[-1]))\n",
    "\n",
    "    def predict(self, invID):\n",
    "        return np.dot(self.w_Item, self.w_User[int(invID), :]) + self.mean_inv  # numpy.dot 点乘\n",
    "\n",
    "    # ****************Set parameters by providing a parameter dictionary.  ***********#\n",
    "    def set_params(self, parameters):\n",
    "        if isinstance(parameters, dict):\n",
    "            self.num_feat = parameters.get(\"num_feat\", 10)\n",
    "            self.epsilon = parameters.get(\"epsilon\", 1)\n",
    "            self._lambda = parameters.get(\"_lambda\", 0.1)\n",
    "            self.momentum = parameters.get(\"momentum\", 0.8)\n",
    "            self.maxepoch = parameters.get(\"maxepoch\", 20)\n",
    "            self.num_batches = parameters.get(\"num_batches\", 10)\n",
    "            self.batch_size = parameters.get(\"batch_size\", 1000)\n",
    "\n",
    "    def topK(self, test_vec, k=10):\n",
    "        inv_lst = np.unique(test_vec[:, 0])\n",
    "        pred = {}\n",
    "        for inv in inv_lst:\n",
    "            if pred.get(inv, None) is None:\n",
    "                pred[inv] = np.argsort(self.predict(inv))[-k:]  # numpy.argsort索引排序\n",
    "\n",
    "        intersection_cnt = {}\n",
    "        for i in range(test_vec.shape[0]):\n",
    "            if test_vec[i, 1] in pred[test_vec[i, 0]]:\n",
    "                intersection_cnt[test_vec[i, 0]] = intersection_cnt.get(test_vec[i, 0], 0) + 1\n",
    "        invPairs_cnt = np.bincount(np.array(test_vec[:, 0], dtype='int32'))\n",
    "\n",
    "        precision_acc = 0.0\n",
    "        recall_acc = 0.0\n",
    "        for inv in inv_lst:\n",
    "            precision_acc += intersection_cnt.get(inv, 0) / float(k)\n",
    "            recall_acc += intersection_cnt.get(inv, 0) / float(invPairs_cnt[int(inv)])\n",
    "\n",
    "        return precision_acc / len(inv_lst), recall_acc / len(inv_lst)"
   ]
  },
  {
   "cell_type": "markdown",
   "id": "0759ed7d",
   "metadata": {},
   "source": [
    "## 4. Definir modelo PMF\n",
    "\n",
    "    Mismos parámetros de entrada que en el repo"
   ]
  },
  {
   "cell_type": "code",
   "execution_count": 120,
   "id": "ee16bb9b",
   "metadata": {},
   "outputs": [],
   "source": [
    "pmf = PMF()\n",
    "num_feat = 10\n",
    "pmf.set_params({\n",
    "    \"num_feat\": num_feat,\n",
    "    \"epsilon\": 1,\n",
    "    \"_lambda\": 0.01,\n",
    "    \"momentum\": 0.8,\n",
    "    \"maxepoch\": 100,     # en el código tienen 10 pero luego en el README 100\n",
    "    \"num_batches\": 10,\n",
    "    \"batch_size\": 1000,\n",
    "})"
   ]
  },
  {
   "cell_type": "code",
   "execution_count": 121,
   "id": "b73c3ebe",
   "metadata": {},
   "outputs": [],
   "source": [
    "if num_feat <= genre_matrix.shape[1]:\n",
    "    svd = TruncatedSVD(n_components=num_feat, random_state=42)\n",
    "    pmf.w_Item = svd.fit_transform(genre_matrix)\n",
    "else:\n",
    "    pmf.w_Item = np.zeros((genre_matrix.shape[0], num_feat))\n",
    "    pmf.w_Item[:, :genre_matrix.shape[1]] = genre_matrix\n",
    "    pmf.w_Item[:, genre_matrix.shape[1]:] = 0.01 * np.random.randn(genre_matrix.shape[0], num_feat - genre_matrix.shape[1])\n",
    "\n",
    "# Inicializar w_User aleatoriamente\n",
    "pmf.w_User = 0.1 * np.random.randn(n_users, num_feat)"
   ]
  },
  {
   "cell_type": "markdown",
   "id": "5799f105",
   "metadata": {},
   "source": [
    "### Entrenar modelo"
   ]
  },
  {
   "cell_type": "code",
   "execution_count": 122,
   "id": "cf48100d",
   "metadata": {},
   "outputs": [
    {
     "name": "stdout",
     "output_type": "stream",
     "text": [
      "Training RMSE: 1.126459, Test RMSE 1.124511\n",
      "Training RMSE: 1.126187, Test RMSE 1.124497\n",
      "Training RMSE: 1.125920, Test RMSE 1.124496\n",
      "Training RMSE: 1.125645, Test RMSE 1.124491\n",
      "Training RMSE: 1.125369, Test RMSE 1.124487\n",
      "Training RMSE: 1.125088, Test RMSE 1.124467\n",
      "Training RMSE: 1.124817, Test RMSE 1.124455\n",
      "Training RMSE: 1.124545, Test RMSE 1.124452\n",
      "Training RMSE: 1.124265, Test RMSE 1.124439\n",
      "Training RMSE: 1.123975, Test RMSE 1.124418\n",
      "Training RMSE: 1.123685, Test RMSE 1.124405\n",
      "Training RMSE: 1.123383, Test RMSE 1.124392\n",
      "Training RMSE: 1.123056, Test RMSE 1.124362\n",
      "Training RMSE: 1.122732, Test RMSE 1.124335\n",
      "Training RMSE: 1.122388, Test RMSE 1.124283\n",
      "Training RMSE: 1.122021, Test RMSE 1.124241\n",
      "Training RMSE: 1.121635, Test RMSE 1.124195\n",
      "Training RMSE: 1.121232, Test RMSE 1.124123\n",
      "Training RMSE: 1.120802, Test RMSE 1.124038\n",
      "Training RMSE: 1.120346, Test RMSE 1.123928\n",
      "Training RMSE: 1.119855, Test RMSE 1.123778\n",
      "Training RMSE: 1.119334, Test RMSE 1.123632\n",
      "Training RMSE: 1.118777, Test RMSE 1.123449\n",
      "Training RMSE: 1.118157, Test RMSE 1.123248\n",
      "Training RMSE: 1.117492, Test RMSE 1.123013\n",
      "Training RMSE: 1.116796, Test RMSE 1.122759\n",
      "Training RMSE: 1.116017, Test RMSE 1.122476\n",
      "Training RMSE: 1.115144, Test RMSE 1.122122\n",
      "Training RMSE: 1.114161, Test RMSE 1.121677\n",
      "Training RMSE: 1.113111, Test RMSE 1.121146\n",
      "Training RMSE: 1.111951, Test RMSE 1.120604\n",
      "Training RMSE: 1.110640, Test RMSE 1.119973\n",
      "Training RMSE: 1.109217, Test RMSE 1.119244\n",
      "Training RMSE: 1.107622, Test RMSE 1.118382\n",
      "Training RMSE: 1.105846, Test RMSE 1.117396\n",
      "Training RMSE: 1.103854, Test RMSE 1.116204\n",
      "Training RMSE: 1.101669, Test RMSE 1.114911\n",
      "Training RMSE: 1.099319, Test RMSE 1.113473\n",
      "Training RMSE: 1.096715, Test RMSE 1.111857\n",
      "Training RMSE: 1.093888, Test RMSE 1.110055\n",
      "Training RMSE: 1.090769, Test RMSE 1.107987\n",
      "Training RMSE: 1.087284, Test RMSE 1.105676\n",
      "Training RMSE: 1.083630, Test RMSE 1.103216\n",
      "Training RMSE: 1.079753, Test RMSE 1.100702\n",
      "Training RMSE: 1.075689, Test RMSE 1.098076\n",
      "Training RMSE: 1.071348, Test RMSE 1.095190\n",
      "Training RMSE: 1.066591, Test RMSE 1.092026\n",
      "Training RMSE: 1.061733, Test RMSE 1.088735\n",
      "Training RMSE: 1.056693, Test RMSE 1.085466\n",
      "Training RMSE: 1.051635, Test RMSE 1.082127\n",
      "Training RMSE: 1.046599, Test RMSE 1.078858\n",
      "Training RMSE: 1.041663, Test RMSE 1.075649\n",
      "Training RMSE: 1.036291, Test RMSE 1.072108\n",
      "Training RMSE: 1.031112, Test RMSE 1.068834\n",
      "Training RMSE: 1.025774, Test RMSE 1.065510\n",
      "Training RMSE: 1.020594, Test RMSE 1.062314\n",
      "Training RMSE: 1.015533, Test RMSE 1.059134\n",
      "Training RMSE: 1.010469, Test RMSE 1.055895\n",
      "Training RMSE: 1.005505, Test RMSE 1.052881\n",
      "Training RMSE: 1.000623, Test RMSE 1.049681\n",
      "Training RMSE: 0.995722, Test RMSE 1.046828\n",
      "Training RMSE: 0.990631, Test RMSE 1.043582\n",
      "Training RMSE: 0.985840, Test RMSE 1.040589\n",
      "Training RMSE: 0.981052, Test RMSE 1.037540\n",
      "Training RMSE: 0.976472, Test RMSE 1.034759\n",
      "Training RMSE: 0.971889, Test RMSE 1.031968\n",
      "Training RMSE: 0.967342, Test RMSE 1.029282\n",
      "Training RMSE: 0.962756, Test RMSE 1.026407\n",
      "Training RMSE: 0.958350, Test RMSE 1.023541\n",
      "Training RMSE: 0.954254, Test RMSE 1.021040\n",
      "Training RMSE: 0.950143, Test RMSE 1.018635\n",
      "Training RMSE: 0.946105, Test RMSE 1.016243\n",
      "Training RMSE: 0.942148, Test RMSE 1.013751\n",
      "Training RMSE: 0.938246, Test RMSE 1.011337\n",
      "Training RMSE: 0.934323, Test RMSE 1.008999\n",
      "Training RMSE: 0.930599, Test RMSE 1.006695\n",
      "Training RMSE: 0.926902, Test RMSE 1.004700\n",
      "Training RMSE: 0.923301, Test RMSE 1.002483\n",
      "Training RMSE: 0.919988, Test RMSE 1.000489\n",
      "Training RMSE: 0.916848, Test RMSE 0.998662\n",
      "Training RMSE: 0.913675, Test RMSE 0.996974\n",
      "Training RMSE: 0.910566, Test RMSE 0.995291\n",
      "Training RMSE: 0.907461, Test RMSE 0.993641\n",
      "Training RMSE: 0.904439, Test RMSE 0.992185\n",
      "Training RMSE: 0.901501, Test RMSE 0.990827\n",
      "Training RMSE: 0.898638, Test RMSE 0.989581\n",
      "Training RMSE: 0.895767, Test RMSE 0.988260\n",
      "Training RMSE: 0.892928, Test RMSE 0.987083\n",
      "Training RMSE: 0.890131, Test RMSE 0.986119\n",
      "Training RMSE: 0.887332, Test RMSE 0.984753\n",
      "Training RMSE: 0.884516, Test RMSE 0.983777\n",
      "Training RMSE: 0.882026, Test RMSE 0.982965\n",
      "Training RMSE: 0.879523, Test RMSE 0.982315\n",
      "Training RMSE: 0.877047, Test RMSE 0.981325\n",
      "Training RMSE: 0.874496, Test RMSE 0.980259\n",
      "Training RMSE: 0.872213, Test RMSE 0.979327\n",
      "Training RMSE: 0.870043, Test RMSE 0.978601\n",
      "Training RMSE: 0.867802, Test RMSE 0.978137\n",
      "Training RMSE: 0.865634, Test RMSE 0.977776\n",
      "Training RMSE: 0.863502, Test RMSE 0.977405\n"
     ]
    }
   ],
   "source": [
    "pmf.fit(train, test)"
   ]
  },
  {
   "cell_type": "markdown",
   "id": "98e448a8",
   "metadata": {},
   "source": [
    "### Visualizar \n"
   ]
  },
  {
   "cell_type": "code",
   "execution_count": 123,
   "id": "f2c5bd91",
   "metadata": {},
   "outputs": [
    {
     "data": {
      "image/png": "[encoded data removed]",
      "text/plain": [
       "<Figure size 640x480 with 1 Axes>"
      ]
     },
     "metadata": {},
     "output_type": "display_data"
    }
   ],
   "source": [
    "plt.plot(range(1, len(pmf.rmse_train)+1), pmf.rmse_train, marker='o', label='Train RMSE')\n",
    "plt.plot(range(1, len(pmf.rmse_test)+1), pmf.rmse_test, marker='v', label='Test RMSE')\n",
    "plt.xlabel(\"Epoch\")\n",
    "plt.ylabel(\"RMSE\")\n",
    "plt.legend()\n",
    "plt.grid(True)\n",
    "plt.show()"
   ]
  },
  {
   "cell_type": "markdown",
   "id": "dce2e5db",
   "metadata": {},
   "source": [
    "### Evaluar "
   ]
  },
  {
   "cell_type": "code",
   "execution_count": 124,
   "id": "0221a566",
   "metadata": {},
   "outputs": [
    {
     "name": "stdout",
     "output_type": "stream",
     "text": [
      "Top-100 Precision: 0.0407, Recall: 0.2130\n"
     ]
    }
   ],
   "source": [
    "prec, rec = pmf.topK(test, k=100)\n",
    "print(f\"Top-100 Precision: {prec:.4f}, Recall: {rec:.4f}\")"
   ]
  },
  {
   "cell_type": "code",
   "execution_count": null,
   "id": "a0fd39bb",
   "metadata": {},
   "outputs": [],
   "source": [
    "import matplotlib.pyplot as plt\n",
    "import numpy as np\n",
    "from numpy import *\n",
    "import random\n",
    "from sklearn.model_selection import train_test_split\n",
    "\n",
    "import nbformat as nbf\n",
    "import pathlib, os"
   ]
  }
 ],
 "metadata": {
  "kernelspec": {
   "display_name": "base",
   "language": "python",
   "name": "python3"
  },
  "language_info": {
   "codemirror_mode": {
    "name": "ipython",
    "version": 3
   },
   "file_extension": ".py",
   "mimetype": "text/x-python",
   "name": "python",
   "nbconvert_exporter": "python",
   "pygments_lexer": "ipython3",
   "version": "3.13.5"
  }
 },
 "nbformat": 4,
 "nbformat_minor": 5
}
