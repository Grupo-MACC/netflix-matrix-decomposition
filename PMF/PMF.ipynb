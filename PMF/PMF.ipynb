{
 "cells": [
  {
   "cell_type": "markdown",
   "id": "fb179daf141f80c2",
   "metadata": {},
   "source": [
    "# Probabilistic-Matrix-Factorization\n",
    "\n",
    "- [Repositorio](https://github.com/fuhailin/Probabilistic-Matrix-Factorization/tree/master)\n",
    "\n",
    "- [Paper](https://proceedings.neurips.cc/paper_files/paper/2007/hash/d7322ed717dedf1eb4e6e52a37ea7bcd-Abstract.html)"
   ]
  },
  {
   "cell_type": "code",
   "execution_count": null,
   "id": "initial_id",
   "metadata": {
    "collapsed": true,
    "jupyter": {
     "is_executing": true
    }
   },
   "outputs": [],
   "source": [
    "import matplotlib.pyplot as plt\n",
    "import numpy as np\n",
    "from numpy import *\n",
    "import random\n",
    "from sklearn.model_selection import train_test_split\n",
    "import nbformat as nbf\n",
    "import pathlib, os"
   ]
  },
  {
   "cell_type": "markdown",
   "id": "28e5dfdc",
   "metadata": {},
   "source": [
    "## 1. Cargar BD 'u.data'\n",
    "\n",
    "    Unicamente devuelve las columnas user_id, item_id, rating"
   ]
  },
  {
   "cell_type": "code",
   "execution_count": null,
   "id": "3c0ff2fa",
   "metadata": {},
   "outputs": [
    {
     "name": "stdout",
     "output_type": "stream",
     "text": [
      "Ratings: (100000, 3), usuarios=943, items=1682\n"
     ]
    }
   ],
   "source": [
    "u_data = \"data/u.data\"\n",
    "\n",
    "def load_rating_data(u_data_path: pathlib.Path) -> np.ndarray:\n",
    "    data = np.loadtxt(u_data_path, dtype=np.int64)\n",
    "    # userId, itemId empiezan en 1 -> pasamos a base-0\n",
    "    data[:, 0] -= 1\n",
    "    data[:, 1] -= 1\n",
    "    # Solamente queremos quedarnos con las columnas: user, item, rating (ignoramos timestamp)\n",
    "    return data[:, :3].astype(np.float64)\n",
    "\n",
    "ratings = load_rating_data(u_data)\n",
    "n_users = int(ratings[:, 0].max()) + 1\n",
    "n_items = int(ratings[:, 1].max()) + 1\n",
    "\n",
    "print(f\"Ratings: {ratings.shape}, usuarios={n_users}, items={n_items}\")"
   ]
  },
  {
   "cell_type": "markdown",
   "id": "f5545fdd",
   "metadata": {},
   "source": [
    "## 2. Train /test\n",
    "\n",
    "    Dividir el dataset en train (80%) y test(20%)"
   ]
  },
  {
   "cell_type": "code",
   "execution_count": 10,
   "id": "3e0c147d",
   "metadata": {},
   "outputs": [
    {
     "name": "stdout",
     "output_type": "stream",
     "text": [
      "Train: (80000, 3) Test: (20000, 3)\n"
     ]
    }
   ],
   "source": [
    "train, test = train_test_split(ratings, test_size=0.2, random_state=42)\n",
    "print(\"Train:\", train.shape, \"Test:\", test.shape)"
   ]
  },
  {
   "cell_type": "markdown",
   "id": "3a54bffe",
   "metadata": {},
   "source": [
    "## 3. Definir PMF\n",
    "\n",
    "    (La Clase PMF es igual que la del repositorio)"
   ]
  },
  {
   "cell_type": "code",
   "execution_count": 12,
   "id": "730c84cc",
   "metadata": {},
   "outputs": [],
   "source": [
    "# -*- coding: utf-8 -*-\n",
    "import numpy as np\n",
    "\n",
    "\n",
    "class PMF(object):\n",
    "    def __init__(self, num_feat=10, epsilon=1, _lambda=0.1, momentum=0.8, maxepoch=20, num_batches=10, batch_size=1000):\n",
    "        self.num_feat = num_feat  # Number of latent features,\n",
    "        self.epsilon = epsilon  # learning rate,\n",
    "        self._lambda = _lambda  # L2 regularization,\n",
    "        self.momentum = momentum  # momentum of the gradient,\n",
    "        self.maxepoch = maxepoch  # Number of epoch before stop,\n",
    "        self.num_batches = num_batches  # Number of batches in each epoch (for SGD optimization),\n",
    "        self.batch_size = batch_size  # Number of training samples used in each batches (for SGD optimization)\n",
    "\n",
    "        self.w_Item = None  # Item feature vectors\n",
    "        self.w_User = None  # User feature vectors\n",
    "\n",
    "        self.rmse_train = []\n",
    "        self.rmse_test = []\n",
    "\n",
    "    # ***Fit the model with train_tuple and evaluate RMSE on both train and test data.  ***********#\n",
    "    # ***************** train_vec=TrainData, test_vec=TestData*************#\n",
    "    def fit(self, train_vec, test_vec):\n",
    "        # mean subtraction\n",
    "        self.mean_inv = np.mean(train_vec[:, 2])  # 评分平均值\n",
    "\n",
    "        pairs_train = train_vec.shape[0]  # traindata 中条目数\n",
    "        pairs_test = test_vec.shape[0]  # testdata中条目数\n",
    "\n",
    "        # 1-p-i, 2-m-c\n",
    "        num_user = int(max(np.amax(train_vec[:, 0]), np.amax(test_vec[:, 0]))) + 1  # 第0列，user总数\n",
    "        num_item = int(max(np.amax(train_vec[:, 1]), np.amax(test_vec[:, 1]))) + 1  # 第1列，movie总数\n",
    "\n",
    "        incremental = False  # 增量\n",
    "        if ((not incremental) or (self.w_Item is None)):\n",
    "            # initialize\n",
    "            self.epoch = 0\n",
    "            self.w_Item = 0.1 * np.random.randn(num_item, self.num_feat)  # numpy.random.randn 电影 M x D 正态分布矩阵\n",
    "            self.w_User = 0.1 * np.random.randn(num_user, self.num_feat)  # numpy.random.randn 用户 N x D 正态分布矩阵\n",
    "\n",
    "            self.w_Item_inc = np.zeros((num_item, self.num_feat))  # 创建电影 M x D 0矩阵\n",
    "            self.w_User_inc = np.zeros((num_user, self.num_feat))  # 创建用户 N x D 0矩阵\n",
    "\n",
    "        while self.epoch < self.maxepoch:  # 检查迭代次数\n",
    "            self.epoch += 1\n",
    "\n",
    "            # Shuffle training truples\n",
    "            shuffled_order = np.arange(train_vec.shape[0])  # 根据记录数创建等差array\n",
    "            np.random.shuffle(shuffled_order)  # 用于将一个列表中的元素打乱\n",
    "\n",
    "            # Batch update\n",
    "            for batch in range(self.num_batches):  # 每次迭代要使用的数据量\n",
    "                # print \"epoch %d batch %d\" % (self.epoch, batch+1)\n",
    "\n",
    "                test = np.arange(self.batch_size * batch, self.batch_size * (batch + 1))\n",
    "                batch_idx = np.mod(test, shuffled_order.shape[0])  # 本次迭代要使用的索引下标\n",
    "\n",
    "                batch_UserID = np.array(train_vec[shuffled_order[batch_idx], 0], dtype='int32')\n",
    "                batch_ItemID = np.array(train_vec[shuffled_order[batch_idx], 1], dtype='int32')\n",
    "\n",
    "                # Compute Objective Function\n",
    "                pred_out = np.sum(np.multiply(self.w_User[batch_UserID, :],\n",
    "                                              self.w_Item[batch_ItemID, :]),\n",
    "                                  axis=1)  # mean_inv subtracted # np.multiply对应位置元素相乘\n",
    "\n",
    "                rawErr = pred_out - train_vec[shuffled_order[batch_idx], 2] + self.mean_inv\n",
    "\n",
    "                # Compute gradients\n",
    "                Ix_User = 2 * np.multiply(rawErr[:, np.newaxis], self.w_Item[batch_ItemID, :]) \\\n",
    "                       + self._lambda * self.w_User[batch_UserID, :]\n",
    "                Ix_Item = 2 * np.multiply(rawErr[:, np.newaxis], self.w_User[batch_UserID, :]) \\\n",
    "                       + self._lambda * (self.w_Item[batch_ItemID, :])  # np.newaxis :increase the dimension\n",
    "\n",
    "                dw_Item = np.zeros((num_item, self.num_feat))\n",
    "                dw_User = np.zeros((num_user, self.num_feat))\n",
    "\n",
    "                # loop to aggreate the gradients of the same element\n",
    "                for i in range(self.batch_size):\n",
    "                    dw_Item[batch_ItemID[i], :] += Ix_Item[i, :]\n",
    "                    dw_User[batch_UserID[i], :] += Ix_User[i, :]\n",
    "\n",
    "                # Update with momentum\n",
    "                self.w_Item_inc = self.momentum * self.w_Item_inc + self.epsilon * dw_Item / self.batch_size\n",
    "                self.w_User_inc = self.momentum * self.w_User_inc + self.epsilon * dw_User / self.batch_size\n",
    "\n",
    "                self.w_Item = self.w_Item - self.w_Item_inc\n",
    "                self.w_User = self.w_User - self.w_User_inc\n",
    "\n",
    "                # Compute Objective Function after\n",
    "                if batch == self.num_batches - 1:\n",
    "                    pred_out = np.sum(np.multiply(self.w_User[np.array(train_vec[:, 0], dtype='int32'), :],\n",
    "                                                  self.w_Item[np.array(train_vec[:, 1], dtype='int32'), :]),\n",
    "                                      axis=1)  # mean_inv subtracted\n",
    "                    rawErr = pred_out - train_vec[:, 2] + self.mean_inv\n",
    "                    obj = np.linalg.norm(rawErr) ** 2 \\\n",
    "                          + 0.5 * self._lambda * (np.linalg.norm(self.w_User) ** 2 + np.linalg.norm(self.w_Item) ** 2)\n",
    "\n",
    "                    self.rmse_train.append(np.sqrt(obj / pairs_train))\n",
    "\n",
    "                # Compute validation error\n",
    "                if batch == self.num_batches - 1:\n",
    "                    pred_out = np.sum(np.multiply(self.w_User[np.array(test_vec[:, 0], dtype='int32'), :],\n",
    "                                                  self.w_Item[np.array(test_vec[:, 1], dtype='int32'), :]),\n",
    "                                      axis=1)  # mean_inv subtracted\n",
    "                    rawErr = pred_out - test_vec[:, 2] + self.mean_inv\n",
    "                    self.rmse_test.append(np.linalg.norm(rawErr) / np.sqrt(pairs_test))\n",
    "\n",
    "                    # Print info\n",
    "                    if batch == self.num_batches - 1:\n",
    "                        print('Training RMSE: %f, Test RMSE %f' % (self.rmse_train[-1], self.rmse_test[-1]))\n",
    "\n",
    "    def predict(self, invID):\n",
    "        return np.dot(self.w_Item, self.w_User[int(invID), :]) + self.mean_inv  # numpy.dot 点乘\n",
    "\n",
    "    # ****************Set parameters by providing a parameter dictionary.  ***********#\n",
    "    def set_params(self, parameters):\n",
    "        if isinstance(parameters, dict):\n",
    "            self.num_feat = parameters.get(\"num_feat\", 10)\n",
    "            self.epsilon = parameters.get(\"epsilon\", 1)\n",
    "            self._lambda = parameters.get(\"_lambda\", 0.1)\n",
    "            self.momentum = parameters.get(\"momentum\", 0.8)\n",
    "            self.maxepoch = parameters.get(\"maxepoch\", 20)\n",
    "            self.num_batches = parameters.get(\"num_batches\", 10)\n",
    "            self.batch_size = parameters.get(\"batch_size\", 1000)\n",
    "\n",
    "    def topK(self, test_vec, k=10):\n",
    "        inv_lst = np.unique(test_vec[:, 0])\n",
    "        pred = {}\n",
    "        for inv in inv_lst:\n",
    "            if pred.get(inv, None) is None:\n",
    "                pred[inv] = np.argsort(self.predict(inv))[-k:]  # numpy.argsort索引排序\n",
    "\n",
    "        intersection_cnt = {}\n",
    "        for i in range(test_vec.shape[0]):\n",
    "            if test_vec[i, 1] in pred[test_vec[i, 0]]:\n",
    "                intersection_cnt[test_vec[i, 0]] = intersection_cnt.get(test_vec[i, 0], 0) + 1\n",
    "        invPairs_cnt = np.bincount(np.array(test_vec[:, 0], dtype='int32'))\n",
    "\n",
    "        precision_acc = 0.0\n",
    "        recall_acc = 0.0\n",
    "        for inv in inv_lst:\n",
    "            precision_acc += intersection_cnt.get(inv, 0) / float(k)\n",
    "            recall_acc += intersection_cnt.get(inv, 0) / float(invPairs_cnt[int(inv)])\n",
    "\n",
    "        return precision_acc / len(inv_lst), recall_acc / len(inv_lst)"
   ]
  },
  {
   "cell_type": "markdown",
   "id": "0759ed7d",
   "metadata": {},
   "source": [
    "## 4. Definir modelo PMF\n",
    "\n",
    "    Mismos parámetros de entrada que en el repo"
   ]
  },
  {
   "cell_type": "code",
   "execution_count": null,
   "id": "ee16bb9b",
   "metadata": {},
   "outputs": [],
   "source": [
    "pmf = PMF()\n",
    "pmf.set_params({\n",
    "    \"num_feat\": 10,\n",
    "    \"epsilon\": 1.0,\n",
    "    \"_lambda\": 0.1,\n",
    "    \"momentum\": 0.8,\n",
    "    \"maxepoch\": 10,     # en el código tienen 10 pero luego en el README 100\n",
    "    \"num_batches\": 100,\n",
    "    \"batch_size\": 1000,\n",
    "})"
   ]
  },
  {
   "cell_type": "markdown",
   "id": "5799f105",
   "metadata": {},
   "source": [
    "### Entrenar modelo"
   ]
  },
  {
   "cell_type": "code",
   "execution_count": 16,
   "id": "cf48100d",
   "metadata": {},
   "outputs": [
    {
     "name": "stdout",
     "output_type": "stream",
     "text": [
      "Training RMSE: 1.124155, Test RMSE 1.124645\n",
      "Training RMSE: 1.121926, Test RMSE 1.124443\n",
      "Training RMSE: 1.118671, Test RMSE 1.123522\n",
      "Training RMSE: 1.111674, Test RMSE 1.119940\n",
      "Training RMSE: 1.093707, Test RMSE 1.107802\n",
      "Training RMSE: 1.053718, Test RMSE 1.077787\n",
      "Training RMSE: 1.000739, Test RMSE 1.037679\n",
      "Training RMSE: 0.955619, Test RMSE 1.004760\n",
      "Training RMSE: 0.922450, Test RMSE 0.981571\n",
      "Training RMSE: 0.898688, Test RMSE 0.966911\n"
     ]
    }
   ],
   "source": [
    "pmf.fit(train, test)"
   ]
  },
  {
   "cell_type": "markdown",
   "id": "98e448a8",
   "metadata": {},
   "source": [
    "### Visualizar \n"
   ]
  },
  {
   "cell_type": "code",
   "execution_count": 17,
   "id": "f2c5bd91",
   "metadata": {},
   "outputs": [
    {
     "data": {
      "image/png": "[encoded data removed]",
      "text/plain": [
       "<Figure size 640x480 with 1 Axes>"
      ]
     },
     "metadata": {},
     "output_type": "display_data"
    }
   ],
   "source": [
    "plt.plot(range(1, len(pmf.rmse_train)+1), pmf.rmse_train, marker='o', label='Train RMSE')\n",
    "plt.plot(range(1, len(pmf.rmse_test)+1), pmf.rmse_test, marker='v', label='Test RMSE')\n",
    "plt.xlabel(\"Epoch\")\n",
    "plt.ylabel(\"RMSE\")\n",
    "plt.legend()\n",
    "plt.grid(True)\n",
    "plt.show()"
   ]
  },
  {
   "cell_type": "markdown",
   "id": "dce2e5db",
   "metadata": {},
   "source": [
    "### Evaluar "
   ]
  },
  {
   "cell_type": "code",
   "execution_count": 18,
   "id": "0221a566",
   "metadata": {},
   "outputs": [
    {
     "name": "stdout",
     "output_type": "stream",
     "text": [
      "Top-10 Precision: 0.0681, Recall: 0.0390\n"
     ]
    }
   ],
   "source": [
    "prec, rec = pmf.topK(test, k=10)\n",
    "print(f\"Top-10 Precision: {prec:.4f}, Recall: {rec:.4f}\")"
   ]
  },
  {
   "cell_type": "code",
   "execution_count": null,
   "id": "a0fd39bb",
   "metadata": {},
   "outputs": [],
   "source": [
    "import matplotlib.pyplot as plt\n",
    "import numpy as np\n",
    "from numpy import *\n",
    "import random\n",
    "from sklearn.model_selection import train_test_split\n",
    "\n",
    "import nbformat as nbf\n",
    "import pathlib, os"
   ]
  }
 ],
 "metadata": {
  "kernelspec": {
   "display_name": "Python (cassandra_env)",
   "language": "python",
   "name": "cassandra_env"
  },
  "language_info": {
   "codemirror_mode": {
    "name": "ipython",
    "version": 3
   },
   "file_extension": ".py",
   "mimetype": "text/x-python",
   "name": "python",
   "nbconvert_exporter": "python",
   "pygments_lexer": "ipython3",
   "version": "3.12.10"
  }
 },
 "nbformat": 4,
 "nbformat_minor": 5
}
