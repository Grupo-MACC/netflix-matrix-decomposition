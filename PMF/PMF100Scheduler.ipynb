{
 "cells": [
  {
   "cell_type": "markdown",
   "id": "fb179daf141f80c2",
   "metadata": {},
   "source": [
    "# Probabilistic-Matrix-Factorization\n",
    "\n",
    "- [Repositorio](https://github.com/fuhailin/Probabilistic-Matrix-Factorization/tree/master)\n",
    "\n",
    "- [Paper](https://proceedings.neurips.cc/paper_files/paper/2007/hash/d7322ed717dedf1eb4e6e52a37ea7bcd-Abstract.html)"
   ]
  },
  {
   "cell_type": "code",
   "execution_count": 1,
   "id": "initial_id",
   "metadata": {
    "collapsed": true,
    "jupyter": {
     "is_executing": true
    }
   },
   "outputs": [],
   "source": [
    "import matplotlib.pyplot as plt\n",
    "import numpy as np\n",
    "from numpy import *\n",
    "import random\n",
    "from sklearn.model_selection import train_test_split\n",
    "import nbformat as nbf\n",
    "import pathlib, os"
   ]
  },
  {
   "cell_type": "markdown",
   "id": "28e5dfdc",
   "metadata": {},
   "source": [
    "## 1. Cargar BD 'u.data'\n",
    "\n",
    "    Unicamente devuelve las columnas user_id, item_id, rating"
   ]
  },
  {
   "cell_type": "code",
   "execution_count": 10,
   "id": "3c0ff2fa",
   "metadata": {},
   "outputs": [
    {
     "name": "stdout",
     "output_type": "stream",
     "text": [
      " 100000 registros de 943 usuarios que han valorado 1682 películas\n"
     ]
    }
   ],
   "source": [
    "u_data = \"data/u.data\"\n",
    "\n",
    "def load_rating_data(u_data_path: pathlib.Path) -> np.ndarray:\n",
    "    data = np.loadtxt(u_data_path, dtype=np.int64)\n",
    "    # userId, itemId empiezan en 1 -> pasamos a base-0\n",
    "    data[:, 0] -= 1\n",
    "    data[:, 1] -= 1\n",
    "    # Solamente queremos quedarnos con las columnas: user, item, rating (ignoramos timestamp)\n",
    "    return data[:, :3].astype(np.float64)\n",
    "\n",
    "ratings = load_rating_data(u_data)\n",
    "n_users = int(ratings[:, 0].max()) + 1\n",
    "n_items = int(ratings[:, 1].max()) + 1\n",
    "\n",
    "print(f\" {len(ratings)} registros de {n_users} usuarios que han valorado {n_items} películas\")"
   ]
  },
  {
   "cell_type": "markdown",
   "id": "f5545fdd",
   "metadata": {},
   "source": [
    "## 2. Train /test\n",
    "\n",
    "    Dividir el dataset en train (80%) y test(20%)"
   ]
  },
  {
   "cell_type": "code",
   "execution_count": 11,
   "id": "3e0c147d",
   "metadata": {},
   "outputs": [
    {
     "name": "stdout",
     "output_type": "stream",
     "text": [
      "De los 100000 datos totales, 80000 (80%) son para train y 20000 (20%) para test.\n"
     ]
    }
   ],
   "source": [
    "train, test = train_test_split(ratings, test_size=0.2, random_state=42)\n",
    "\n",
    "print(f\"De los {len(ratings)} datos totales, \"\n",
    "      f\"{len(train)} ({len(train)/len(ratings)*100:.0f}%) son para train \"\n",
    "      f\"y {len(test)} ({len(test)/len(ratings)*100:.0f}%) para test.\")"
   ]
  },
  {
   "cell_type": "markdown",
   "id": "3a54bffe",
   "metadata": {},
   "source": [
    "## 3. Definir PMF\n",
    "\n",
    "    (La Clase PMF es igual que la del repositorio)"
   ]
  },
  {
   "cell_type": "code",
   "execution_count": 43,
   "id": "a512da3e",
   "metadata": {},
   "outputs": [],
   "source": [
    "\n",
    "class PMF(object):\n",
    "    def __init__(self, num_feat=10, epsilon=1, _lambda=0.1, momentum=0.8, maxepoch=20, num_batches=10, batch_size=1000, lr_decay=1.0, decay_step=5):\n",
    "        self.num_feat = num_feat      # Number of latent features\n",
    "        self.epsilon = epsilon        # Learning rate\n",
    "        self._lambda = _lambda        # L2 regularization\n",
    "        self.momentum = momentum      # Momentum of the gradient\n",
    "        self.maxepoch = maxepoch      # Number of epoch before stop\n",
    "        self.num_batches = num_batches # Number of batches in each epoch\n",
    "        self.batch_size = batch_size  # Number of training samples used in each batch\n",
    "        \n",
    "        # --- NUEVOS PARÁMETROS PARA EL SCHEDULER ---\n",
    "        self.lr_decay = lr_decay      # Factor de decaimiento del learning rate (1.0 = sin decaimiento)\n",
    "        self.decay_step = decay_step  # Cada cuántas epochs se aplica el decaimiento\n",
    "\n",
    "        # Matrices latentes para items y usuarios (se inicializan después)\n",
    "        self.w_Item = None\n",
    "        self.w_User = None\n",
    "\n",
    "        # Listas para guardar la evolución de los errores\n",
    "        self.rmse_train = []\n",
    "        self.rmse_test = []\n",
    "\n",
    "    def fit(self, train_vec, test_vec):\n",
    "        # Calcula el promedio global de las valoraciones\n",
    "        self.mean_inv = np.mean(train_vec[:, 2])\n",
    "\n",
    "        pairs_train = train_vec.shape[0]\n",
    "        pairs_test = test_vec.shape[0]\n",
    "\n",
    "        # Calcula número total de usuarios e items (máx id + 1)\n",
    "        num_user = int(max(np.amax(train_vec[:, 0]), np.amax(test_vec[:, 0]))) + 1\n",
    "        num_item = int(max(np.amax(train_vec[:, 1]), np.amax(test_vec[:, 1]))) + 1\n",
    "\n",
    "        incremental = False\n",
    "        if ((not incremental) or (self.w_Item is None)):\n",
    "            # Inicialización de matrices y momentum\n",
    "            self.epoch = 0\n",
    "            self.w_Item = 0.1 * np.random.randn(num_item, self.num_feat)\n",
    "            self.w_User = 0.1 * np.random.randn(num_user, self.num_feat)\n",
    "            self.w_Item_inc = np.zeros((num_item, self.num_feat))\n",
    "            self.w_User_inc = np.zeros((num_user, self.num_feat))\n",
    "\n",
    "        # --- Bucle de entrenamiento por épocas ---\n",
    "        while self.epoch < self.maxepoch:\n",
    "            self.epoch += 1\n",
    "\n",
    "            # --- INICIO: LÓGICA DEL SCHEDULER DE LEARNING RATE ---\n",
    "            # Se aplica el decaimiento si la epoch actual es múltiplo del `decay_step`\n",
    "            if self.epoch > 0 and self.epoch % self.decay_step == 0:\n",
    "                self.epsilon *= self.lr_decay\n",
    "                print(f\"--- Epoch {self.epoch}: Learning rate reducido a {self.epsilon:.6f} ---\")\n",
    "            # --- FIN: LÓGICA DEL SCHEDULER ---\n",
    "\n",
    "            # Mezcla los datos de entrenamiento\n",
    "            shuffled_order = np.arange(train_vec.shape[0])\n",
    "            np.random.shuffle(shuffled_order)\n",
    "\n",
    "            # --- Actualización por batches (SGD) ---\n",
    "            for batch in range(self.num_batches):\n",
    "                test = np.arange(self.batch_size * batch, self.batch_size * (batch + 1))\n",
    "                batch_idx = np.mod(test, shuffled_order.shape[0])\n",
    "\n",
    "                batch_UserID = np.array(train_vec[shuffled_order[batch_idx], 0], dtype='int32')\n",
    "                batch_ItemID = np.array(train_vec[shuffled_order[batch_idx], 1], dtype='int32')\n",
    "\n",
    "                # Calcula la predicción y el error\n",
    "                pred_out = np.sum(np.multiply(self.w_User[batch_UserID, :], self.w_Item[batch_ItemID, :]), axis=1)\n",
    "                rawErr = pred_out - train_vec[shuffled_order[batch_idx], 2] + self.mean_inv\n",
    "\n",
    "                # Calcula los gradientes\n",
    "                Ix_User = 2 * np.multiply(rawErr[:, np.newaxis], self.w_Item[batch_ItemID, :]) + self._lambda * self.w_User[batch_UserID, :]\n",
    "                Ix_Item = 2 * np.multiply(rawErr[:, np.newaxis], self.w_User[batch_UserID, :]) + self._lambda * (self.w_Item[batch_ItemID, :])\n",
    "\n",
    "                dw_Item = np.zeros((num_item, self.num_feat))\n",
    "                dw_User = np.zeros((num_user, self.num_feat))\n",
    "\n",
    "                # Agrega los gradientes\n",
    "                for i in range(self.batch_size):\n",
    "                    dw_Item[batch_ItemID[i], :] += Ix_Item[i, :]\n",
    "                    dw_User[batch_UserID[i], :] += Ix_User[i, :]\n",
    "\n",
    "                # Actualiza los pesos con momentum\n",
    "                self.w_Item_inc = self.momentum * self.w_Item_inc + self.epsilon * dw_Item / self.batch_size\n",
    "                self.w_User_inc = self.momentum * self.w_User_inc + self.epsilon * dw_User / self.batch_size\n",
    "                self.w_Item = self.w_Item - self.w_Item_inc\n",
    "                self.w_User = self.w_User - self.w_User_inc\n",
    "\n",
    "                # Al final de la epoch, calcula y guarda los errores\n",
    "                if batch == self.num_batches - 1:\n",
    "                    # Error en Train\n",
    "                    pred_out_train = np.sum(np.multiply(self.w_User[np.array(train_vec[:, 0], dtype='int32'), :], self.w_Item[np.array(train_vec[:, 1], dtype='int32'), :]), axis=1)\n",
    "                    rawErr_train = pred_out_train - train_vec[:, 2] + self.mean_inv\n",
    "                    obj_train = np.linalg.norm(rawErr_train) ** 2 + 0.5 * self._lambda * (np.linalg.norm(self.w_User) ** 2 + np.linalg.norm(self.w_Item) ** 2)\n",
    "                    self.rmse_train.append(np.sqrt(obj_train / pairs_train))\n",
    "\n",
    "                    # Error en Test\n",
    "                    pred_out_test = np.sum(np.multiply(self.w_User[np.array(test_vec[:, 0], dtype='int32'), :], self.w_Item[np.array(test_vec[:, 1], dtype='int32'), :]), axis=1)\n",
    "                    rawErr_test = pred_out_test - test_vec[:, 2] + self.mean_inv\n",
    "                    self.rmse_test.append(np.linalg.norm(rawErr_test) / np.sqrt(pairs_test))\n",
    "\n",
    "                    print('Epoch: %d, Training RMSE: %.4f, Test RMSE %.4f' % (self.epoch, self.rmse_train[-1], self.rmse_test[-1]))\n",
    "\n",
    "    def predict(self, invID):\n",
    "        return np.dot(self.w_Item, self.w_User[int(invID), :]) + self.mean_inv\n",
    "\n",
    "    def set_params(self, parameters):\n",
    "        if isinstance(parameters, dict):\n",
    "            self.num_feat = parameters.get(\"num_feat\", 10)\n",
    "            self.epsilon = parameters.get(\"epsilon\", 1)\n",
    "            self._lambda = parameters.get(\"_lambda\", 0.1)\n",
    "            self.momentum = parameters.get(\"momentum\", 0.8)\n",
    "            self.maxepoch = parameters.get(\"maxepoch\", 20)\n",
    "            self.num_batches = parameters.get(\"num_batches\", 10)\n",
    "            self.batch_size = parameters.get(\"batch_size\", 1000)\n",
    "            \n",
    "            # --- AÑADIDO PARA EL SCHEDULER ---\n",
    "            self.lr_decay = parameters.get(\"lr_decay\", 1.0)\n",
    "            self.decay_step = parameters.get(\"decay_step\", 5)\n",
    "\n",
    "    def topK(self, test_vec, k=10):\n",
    "        inv_lst = np.unique(test_vec[:, 0])\n",
    "        pred = {}\n",
    "        for inv in inv_lst:\n",
    "            if pred.get(inv, None) is None:\n",
    "                pred[inv] = np.argsort(self.predict(inv))[-k:]\n",
    "\n",
    "        intersection_cnt = {}\n",
    "        for i in range(test_vec.shape[0]):\n",
    "            if test_vec[i, 1] in pred[test_vec[i, 0]]:\n",
    "                intersection_cnt[test_vec[i, 0]] = intersection_cnt.get(test_vec[i, 0], 0) + 1\n",
    "        invPairs_cnt = np.bincount(np.array(test_vec[:, 0], dtype='int32'))\n",
    "\n",
    "        precision_acc = 0.0\n",
    "        recall_acc = 0.0\n",
    "        for inv in inv_lst:\n",
    "            precision_acc += intersection_cnt.get(inv, 0) / float(k)\n",
    "            recall_acc += intersection_cnt.get(inv, 0) / float(invPairs_cnt[int(inv)])\n",
    "\n",
    "        return precision_acc / len(inv_lst), recall_acc / len(inv_lst)"
   ]
  },
  {
   "cell_type": "markdown",
   "id": "0759ed7d",
   "metadata": {},
   "source": [
    "## 4. Definir modelo PMF\n",
    "\n"
   ]
  },
  {
   "cell_type": "code",
   "execution_count": 44,
   "id": "ee16bb9b",
   "metadata": {},
   "outputs": [],
   "source": [
    "pmf = PMF()\n",
    "pmf.set_params({\n",
    "    \"num_feat\": 10,\n",
    "    \"epsilon\": 1.0, # FACTOR DE APRENDIZAJE\n",
    "    \"_lambda\": 0.1, \n",
    "    \"momentum\": 0.8,\n",
    "    \"maxepoch\": 100,     # <--\n",
    "    \"num_batches\": 100,\n",
    "    \"batch_size\": 1000,\n",
    "})"
   ]
  },
  {
   "cell_type": "markdown",
   "id": "5799f105",
   "metadata": {},
   "source": [
    "### Entrenar modelo"
   ]
  },
  {
   "cell_type": "code",
   "execution_count": 45,
   "id": "cf48100d",
   "metadata": {},
   "outputs": [
    {
     "name": "stdout",
     "output_type": "stream",
     "text": [
      "Epoch: 1, Training RMSE: 1.1241, Test RMSE 1.1243\n",
      "Epoch: 2, Training RMSE: 1.1215, Test RMSE 1.1235\n",
      "Epoch: 3, Training RMSE: 1.1164, Test RMSE 1.1207\n",
      "Epoch: 4, Training RMSE: 1.1027, Test RMSE 1.1104\n",
      "--- Epoch 5: Learning rate reducido a 1.000000 ---\n",
      "Epoch: 5, Training RMSE: 1.0709, Test RMSE 1.0847\n",
      "Epoch: 6, Training RMSE: 1.0276, Test RMSE 1.0512\n",
      "Epoch: 7, Training RMSE: 0.9867, Test RMSE 1.0218\n",
      "Epoch: 8, Training RMSE: 0.9507, Test RMSE 0.9974\n",
      "Epoch: 9, Training RMSE: 0.9225, Test RMSE 0.9790\n",
      "--- Epoch 10: Learning rate reducido a 1.000000 ---\n",
      "Epoch: 10, Training RMSE: 0.9015, Test RMSE 0.9669\n",
      "Epoch: 11, Training RMSE: 0.8848, Test RMSE 0.9581\n",
      "Epoch: 12, Training RMSE: 0.8706, Test RMSE 0.9517\n",
      "Epoch: 13, Training RMSE: 0.8579, Test RMSE 0.9473\n",
      "Epoch: 14, Training RMSE: 0.8465, Test RMSE 0.9434\n",
      "--- Epoch 15: Learning rate reducido a 1.000000 ---\n",
      "Epoch: 15, Training RMSE: 0.8363, Test RMSE 0.9408\n",
      "Epoch: 16, Training RMSE: 0.8268, Test RMSE 0.9384\n",
      "Epoch: 17, Training RMSE: 0.8180, Test RMSE 0.9369\n",
      "Epoch: 18, Training RMSE: 0.8099, Test RMSE 0.9356\n",
      "Epoch: 19, Training RMSE: 0.8025, Test RMSE 0.9347\n",
      "--- Epoch 20: Learning rate reducido a 1.000000 ---\n",
      "Epoch: 20, Training RMSE: 0.7959, Test RMSE 0.9344\n",
      "Epoch: 21, Training RMSE: 0.7896, Test RMSE 0.9340\n",
      "Epoch: 22, Training RMSE: 0.7840, Test RMSE 0.9341\n",
      "Epoch: 23, Training RMSE: 0.7790, Test RMSE 0.9338\n",
      "Epoch: 24, Training RMSE: 0.7743, Test RMSE 0.9343\n",
      "--- Epoch 25: Learning rate reducido a 1.000000 ---\n",
      "Epoch: 25, Training RMSE: 0.7703, Test RMSE 0.9341\n",
      "Epoch: 26, Training RMSE: 0.7663, Test RMSE 0.9347\n",
      "Epoch: 27, Training RMSE: 0.7629, Test RMSE 0.9354\n",
      "Epoch: 28, Training RMSE: 0.7595, Test RMSE 0.9357\n",
      "Epoch: 29, Training RMSE: 0.7565, Test RMSE 0.9356\n",
      "--- Epoch 30: Learning rate reducido a 1.000000 ---\n",
      "Epoch: 30, Training RMSE: 0.7536, Test RMSE 0.9364\n",
      "Epoch: 31, Training RMSE: 0.7511, Test RMSE 0.9369\n",
      "Epoch: 32, Training RMSE: 0.7489, Test RMSE 0.9374\n",
      "Epoch: 33, Training RMSE: 0.7468, Test RMSE 0.9379\n",
      "Epoch: 34, Training RMSE: 0.7444, Test RMSE 0.9381\n",
      "--- Epoch 35: Learning rate reducido a 1.000000 ---\n",
      "Epoch: 35, Training RMSE: 0.7425, Test RMSE 0.9389\n",
      "Epoch: 36, Training RMSE: 0.7410, Test RMSE 0.9395\n",
      "Epoch: 37, Training RMSE: 0.7392, Test RMSE 0.9402\n",
      "Epoch: 38, Training RMSE: 0.7376, Test RMSE 0.9401\n",
      "Epoch: 39, Training RMSE: 0.7361, Test RMSE 0.9410\n",
      "--- Epoch 40: Learning rate reducido a 1.000000 ---\n",
      "Epoch: 40, Training RMSE: 0.7348, Test RMSE 0.9415\n",
      "Epoch: 41, Training RMSE: 0.7337, Test RMSE 0.9419\n",
      "Epoch: 42, Training RMSE: 0.7323, Test RMSE 0.9421\n",
      "Epoch: 43, Training RMSE: 0.7312, Test RMSE 0.9428\n",
      "Epoch: 44, Training RMSE: 0.7300, Test RMSE 0.9433\n",
      "--- Epoch 45: Learning rate reducido a 1.000000 ---\n",
      "Epoch: 45, Training RMSE: 0.7291, Test RMSE 0.9434\n",
      "Epoch: 46, Training RMSE: 0.7282, Test RMSE 0.9443\n",
      "Epoch: 47, Training RMSE: 0.7271, Test RMSE 0.9443\n",
      "Epoch: 48, Training RMSE: 0.7263, Test RMSE 0.9447\n",
      "Epoch: 49, Training RMSE: 0.7253, Test RMSE 0.9456\n",
      "--- Epoch 50: Learning rate reducido a 1.000000 ---\n",
      "Epoch: 50, Training RMSE: 0.7245, Test RMSE 0.9459\n",
      "Epoch: 51, Training RMSE: 0.7237, Test RMSE 0.9460\n",
      "Epoch: 52, Training RMSE: 0.7230, Test RMSE 0.9466\n",
      "Epoch: 53, Training RMSE: 0.7225, Test RMSE 0.9469\n",
      "Epoch: 54, Training RMSE: 0.7217, Test RMSE 0.9472\n",
      "--- Epoch 55: Learning rate reducido a 1.000000 ---\n",
      "Epoch: 55, Training RMSE: 0.7209, Test RMSE 0.9473\n",
      "Epoch: 56, Training RMSE: 0.7203, Test RMSE 0.9479\n",
      "Epoch: 57, Training RMSE: 0.7198, Test RMSE 0.9484\n",
      "Epoch: 58, Training RMSE: 0.7193, Test RMSE 0.9483\n",
      "Epoch: 59, Training RMSE: 0.7188, Test RMSE 0.9485\n",
      "--- Epoch 60: Learning rate reducido a 1.000000 ---\n",
      "Epoch: 60, Training RMSE: 0.7182, Test RMSE 0.9489\n",
      "Epoch: 61, Training RMSE: 0.7177, Test RMSE 0.9496\n",
      "Epoch: 62, Training RMSE: 0.7172, Test RMSE 0.9497\n",
      "Epoch: 63, Training RMSE: 0.7169, Test RMSE 0.9502\n",
      "Epoch: 64, Training RMSE: 0.7164, Test RMSE 0.9504\n",
      "--- Epoch 65: Learning rate reducido a 1.000000 ---\n",
      "Epoch: 65, Training RMSE: 0.7158, Test RMSE 0.9509\n",
      "Epoch: 66, Training RMSE: 0.7155, Test RMSE 0.9510\n",
      "Epoch: 67, Training RMSE: 0.7151, Test RMSE 0.9514\n",
      "Epoch: 68, Training RMSE: 0.7146, Test RMSE 0.9519\n",
      "Epoch: 69, Training RMSE: 0.7143, Test RMSE 0.9520\n",
      "--- Epoch 70: Learning rate reducido a 1.000000 ---\n",
      "Epoch: 70, Training RMSE: 0.7139, Test RMSE 0.9523\n",
      "Epoch: 71, Training RMSE: 0.7136, Test RMSE 0.9522\n",
      "Epoch: 72, Training RMSE: 0.7132, Test RMSE 0.9525\n",
      "Epoch: 73, Training RMSE: 0.7129, Test RMSE 0.9528\n",
      "Epoch: 74, Training RMSE: 0.7125, Test RMSE 0.9535\n",
      "--- Epoch 75: Learning rate reducido a 1.000000 ---\n",
      "Epoch: 75, Training RMSE: 0.7123, Test RMSE 0.9534\n",
      "Epoch: 76, Training RMSE: 0.7118, Test RMSE 0.9537\n",
      "Epoch: 77, Training RMSE: 0.7114, Test RMSE 0.9538\n",
      "Epoch: 78, Training RMSE: 0.7111, Test RMSE 0.9541\n",
      "Epoch: 79, Training RMSE: 0.7110, Test RMSE 0.9542\n",
      "--- Epoch 80: Learning rate reducido a 1.000000 ---\n",
      "Epoch: 80, Training RMSE: 0.7105, Test RMSE 0.9542\n",
      "Epoch: 81, Training RMSE: 0.7103, Test RMSE 0.9545\n",
      "Epoch: 82, Training RMSE: 0.7101, Test RMSE 0.9547\n",
      "Epoch: 83, Training RMSE: 0.7096, Test RMSE 0.9550\n",
      "Epoch: 84, Training RMSE: 0.7095, Test RMSE 0.9555\n",
      "--- Epoch 85: Learning rate reducido a 1.000000 ---\n",
      "Epoch: 85, Training RMSE: 0.7092, Test RMSE 0.9558\n",
      "Epoch: 86, Training RMSE: 0.7091, Test RMSE 0.9557\n",
      "Epoch: 87, Training RMSE: 0.7088, Test RMSE 0.9558\n",
      "Epoch: 88, Training RMSE: 0.7086, Test RMSE 0.9561\n",
      "Epoch: 89, Training RMSE: 0.7087, Test RMSE 0.9563\n",
      "--- Epoch 90: Learning rate reducido a 1.000000 ---\n",
      "Epoch: 90, Training RMSE: 0.7084, Test RMSE 0.9565\n",
      "Epoch: 91, Training RMSE: 0.7080, Test RMSE 0.9566\n",
      "Epoch: 92, Training RMSE: 0.7075, Test RMSE 0.9570\n",
      "Epoch: 93, Training RMSE: 0.7077, Test RMSE 0.9576\n",
      "Epoch: 94, Training RMSE: 0.7074, Test RMSE 0.9574\n",
      "--- Epoch 95: Learning rate reducido a 1.000000 ---\n",
      "Epoch: 95, Training RMSE: 0.7073, Test RMSE 0.9575\n",
      "Epoch: 96, Training RMSE: 0.7071, Test RMSE 0.9576\n",
      "Epoch: 97, Training RMSE: 0.7068, Test RMSE 0.9573\n",
      "Epoch: 98, Training RMSE: 0.7066, Test RMSE 0.9576\n",
      "Epoch: 99, Training RMSE: 0.7066, Test RMSE 0.9578\n",
      "--- Epoch 100: Learning rate reducido a 1.000000 ---\n",
      "Epoch: 100, Training RMSE: 0.7065, Test RMSE 0.9577\n"
     ]
    }
   ],
   "source": [
    "pmf.fit(train, test)"
   ]
  },
  {
   "cell_type": "markdown",
   "id": "98e448a8",
   "metadata": {},
   "source": [
    "### Visualizar \n"
   ]
  },
  {
   "cell_type": "code",
   "execution_count": 8,
   "id": "f2c5bd91",
   "metadata": {},
   "outputs": [
    {
     "data": {
      "image/png": "[encoded data removed]",
      "text/plain": [
       "<Figure size 640x480 with 1 Axes>"
      ]
     },
     "metadata": {},
     "output_type": "display_data"
    }
   ],
   "source": [
    "plt.plot(range(1, len(pmf.rmse_train)+1), pmf.rmse_train, marker='o', label='Train RMSE')\n",
    "plt.plot(range(1, len(pmf.rmse_test)+1), pmf.rmse_test, marker='v', label='Test RMSE')\n",
    "plt.xlabel(\"Epoch\")\n",
    "plt.ylabel(\"RMSE\")\n",
    "plt.legend()\n",
    "plt.grid(True)\n",
    "plt.show()"
   ]
  }
 ],
 "metadata": {
  "kernelspec": {
   "display_name": "Python (cassandra_env)",
   "language": "python",
   "name": "cassandra_env"
  },
  "language_info": {
   "codemirror_mode": {
    "name": "ipython",
    "version": 3
   },
   "file_extension": ".py",
   "mimetype": "text/x-python",
   "name": "python",
   "nbconvert_exporter": "python",
   "pygments_lexer": "ipython3",
   "version": "3.12.10"
  }
 },
 "nbformat": 4,
 "nbformat_minor": 5
}
